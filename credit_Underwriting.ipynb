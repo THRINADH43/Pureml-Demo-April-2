{
 "cells": [
  {
   "cell_type": "code",
   "execution_count": null,
   "metadata": {},
   "outputs": [],
   "source": [
    "# %pip install --index-url https://test.pypi.org/simple/ --extra-index-url https://pypi.org/simple pureml-evaluate\n",
    "# %pip install --index-url https://test.pypi.org/simple/ --extra-index-url https://pypi.org/simple pureml\n",
    "# %pip install --index-url https://test.pypi.org/simple/ --extra-index-url https://pypi.org/simple pureml-policy\n",
    "# %pip install lightgbm"
   ]
  },
  {
   "cell_type": "code",
   "execution_count": 1,
   "metadata": {},
   "outputs": [
    {
     "data": {
      "text/plain": [
       "'0.4.6'"
      ]
     },
     "execution_count": 1,
     "metadata": {},
     "output_type": "execute_result"
    }
   ],
   "source": [
    "import pureml\n",
    "\n",
    "pureml.__version__"
   ]
  },
  {
   "cell_type": "code",
   "execution_count": 2,
   "metadata": {},
   "outputs": [
    {
     "data": {
      "text/plain": [
       "'0.1.6'"
      ]
     },
     "execution_count": 2,
     "metadata": {},
     "output_type": "execute_result"
    }
   ],
   "source": [
    "import pureml_evaluate \n",
    "\n",
    "pureml_evaluate.__version__"
   ]
  },
  {
   "cell_type": "code",
   "execution_count": 3,
   "metadata": {},
   "outputs": [
    {
     "data": {
      "text/plain": [
       "'0.2.3'"
      ]
     },
     "execution_count": 3,
     "metadata": {},
     "output_type": "execute_result"
    }
   ],
   "source": [
    "import pureml_policy\n",
    "\n",
    "pureml_policy.__version__"
   ]
  },
  {
   "cell_type": "code",
   "execution_count": 4,
   "metadata": {},
   "outputs": [],
   "source": [
    "# Import all the required files\n",
    "import pureml\n",
    "from pureml.decorators import load_data,transformer,dataset,model\n",
    "import numpy as np\n",
    "import pandas as pd\n",
    "import lightgbm as lgb\n",
    "from sklearn.pipeline import Pipeline\n",
    "from sklearn.preprocessing import StandardScaler\n",
    "from sklearn.model_selection import train_test_split\n",
    "import warnings\n",
    "import random\n",
    "\n",
    "warnings.simplefilter(\"ignore\")\n",
    "rand_seed = 1234\n",
    "np.random.seed(rand_seed)"
   ]
  },
  {
   "cell_type": "code",
   "execution_count": 5,
   "metadata": {},
   "outputs": [],
   "source": [
    "@load_data()\n",
    "def load_dataset():\n",
    "    df = pd.read_csv('default of credit card clients.csv', header=1)\n",
    "\n",
    "    return df"
   ]
  },
  {
   "cell_type": "code",
   "execution_count": 6,
   "metadata": {},
   "outputs": [],
   "source": [
    "@transformer()\n",
    "def remove_columns(df):\n",
    "    return df.drop(['ID'],axis =1)"
   ]
  },
  {
   "cell_type": "code",
   "execution_count": 7,
   "metadata": {},
   "outputs": [],
   "source": [
    "@transformer()\n",
    "def rename_columns(df):\n",
    "    return df.rename(columns={\"PAY_0\": \"PAY_1\",\"default payment next month\":\"default\", \"SEX\":\"sex\"})    "
   ]
  },
  {
   "cell_type": "code",
   "execution_count": 8,
   "metadata": {},
   "outputs": [],
   "source": [
    "@transformer()\n",
    "def dataset_imbalances(df):\n",
    "    categorical_features = [\"sex\", \"EDUCATION\", \"MARRIAGE\"]\n",
    "\n",
    "    for col_name in categorical_features:\n",
    "        df[col_name] = df[col_name].astype(\"category\")\n",
    "\n",
    "    Y, A = df.loc[:, \"default\"], df.loc[:, \"sex\"]\n",
    "    X = pd.get_dummies(df.drop(columns=[\"default\", \"sex\"]))\n",
    "\n",
    "\n",
    "    A_str = A.map({1: \"male\", 2: \"female\"})\n",
    "\n",
    "    A_str.value_counts(normalize=True)\n",
    "    Y.value_counts(normalize=True)\n",
    "    \n",
    "    # Generate \"Interest\" column as a DataFrame\n",
    "    interest_values = np.random.normal(loc=2 * Y, scale=A)\n",
    "    interest_column = pd.DataFrame(interest_values, columns=[\"Interest\"])\n",
    "\n",
    "    # Concatenate \"Interest\" column with X DataFrame\n",
    "    X = pd.concat([X, interest_column], axis=1)\n",
    "\n",
    "    return {'X':X,'Y':Y,'A_str':A_str}\n"
   ]
  },
  {
   "cell_type": "code",
   "execution_count": 9,
   "metadata": {},
   "outputs": [],
   "source": [
    "@transformer()\n",
    "def resample_training_data(X_train, Y_train, A_train):\n",
    "   \n",
    "    negative_ids = Y_train[Y_train == 0].index\n",
    "    positive_ids = Y_train[Y_train == 1].index\n",
    "    balanced_ids = positive_ids.union(\n",
    "        np.random.choice(a=negative_ids, size=len(positive_ids)))\n",
    "\n",
    "    X_train = X_train.loc[balanced_ids, :]\n",
    "    Y_train = Y_train.loc[balanced_ids]\n",
    "    A_train = A_train.loc[balanced_ids]\n",
    "    return  {\"X_train\": X_train, \"Y_train\":Y_train, \"A_train\": A_train}\n",
    "\n"
   ]
  },
  {
   "cell_type": "code",
   "execution_count": 10,
   "metadata": {},
   "outputs": [],
   "source": [
    "\n",
    "@transformer()\n",
    "def add_new_column(sensitive_features):\n",
    "    values = ['Indian', 'African', 'American']\n",
    "\n",
    "    list_length = sensitive_features.shape[0]\n",
    "    full_list = values * (list_length // len(values))\n",
    "    full_list += values[:list_length % len(values)]\n",
    "    random.shuffle(full_list)\n",
    "\n",
    "    full_list = np.array(full_list)\n",
    "\n",
    "    s_feat = pd.concat([sensitive_features.reset_index(drop=True), pd.DataFrame(full_list, columns=['race'])], axis=1)\n",
    "\n",
    "    return s_feat"
   ]
  },
  {
   "cell_type": "code",
   "execution_count": 11,
   "metadata": {},
   "outputs": [
    {
     "data": {
      "text/html": [
       "<pre style=\"white-space:pre;overflow-x:auto;line-height:normal;font-family:Menlo,'DejaVu Sans Mono',consolas,'Courier New',monospace\"><span style=\"color: #808000; text-decoration-color: #808000\">Dataset details have not been found</span>\n",
       "</pre>\n"
      ],
      "text/plain": [
       "\u001b[33mDataset details have not been found\u001b[0m\n"
      ]
     },
     "metadata": {},
     "output_type": "display_data"
    },
    {
     "data": {
      "text/html": [
       "<pre style=\"white-space:pre;overflow-x:auto;line-height:normal;font-family:Menlo,'DejaVu Sans Mono',consolas,'Courier New',monospace\"><span style=\"color: #008000; text-decoration-color: #008000\">Dataset has been created!</span>\n",
       "</pre>\n"
      ],
      "text/plain": [
       "\u001b[32mDataset has been created!\u001b[0m\n"
      ]
     },
     "metadata": {},
     "output_type": "display_data"
    },
    {
     "data": {
      "text/html": [
       "<pre style=\"white-space:pre;overflow-x:auto;line-height:normal;font-family:Menlo,'DejaVu Sans Mono',consolas,'Courier New',monospace\">Dataset version:  v1\n",
       "</pre>\n"
      ],
      "text/plain": [
       "Dataset version:  v1\n"
      ]
     },
     "metadata": {},
     "output_type": "display_data"
    },
    {
     "data": {
      "text/html": [
       "<pre style=\"white-space:pre;overflow-x:auto;line-height:normal;font-family:Menlo,'DejaVu Sans Mono',consolas,'Courier New',monospace\">Dataset label:  Credit Loan Dataset3:v1\n",
       "</pre>\n"
      ],
      "text/plain": [
       "Dataset label:  Credit Loan Dataset3:v1\n"
      ]
     },
     "metadata": {},
     "output_type": "display_data"
    },
    {
     "data": {
      "text/html": [
       "<pre style=\"white-space:pre;overflow-x:auto;line-height:normal;font-family:Menlo,'DejaVu Sans Mono',consolas,'Courier New',monospace\"><span style=\"color: #008000; text-decoration-color: #008000\">Dataset and lineage have been registered!</span>\n",
       "</pre>\n"
      ],
      "text/plain": [
       "\u001b[32mDataset and lineage have been registered!\u001b[0m\n"
      ]
     },
     "metadata": {},
     "output_type": "display_data"
    }
   ],
   "source": [
    "@dataset(label='Credit Loan Dataset4',upload=True)\n",
    "def create_dataset():\n",
    "    df = load_dataset()\n",
    "    df = remove_columns(df)\n",
    "    df = rename_columns(df)\n",
    "    data  = dataset_imbalances(df)\n",
    "    X,Y,A_str = data['X'],data['Y'],data['A_str']\n",
    "    X_train, X_test, y_train, y_test, A_train, A_test = train_test_split(X, Y, A_str, test_size=0.35, stratify=Y)\n",
    "    data = resample_training_data(X_train, y_train, A_train)\n",
    "    X_train, y_train, A_train = data['X_train'],data['Y_train'],data['A_train']\n",
    "\n",
    "    A_test = add_new_column(sensitive_features=A_test)\n",
    "\n",
    "    return {\"x_train\":X_train,\"y_train\":y_train.to_numpy(),\"x_test\":X_test,\"y_test\":y_test.to_numpy(),\"sensitive_features\" : A_test}\n",
    "\n",
    "\n",
    "data_created = create_dataset()"
   ]
  },
  {
   "cell_type": "code",
   "execution_count": 12,
   "metadata": {},
   "outputs": [
    {
     "name": "stdout",
     "output_type": "stream",
     "text": [
      "[LightGBM] [Info] Number of positive: 4313, number of negative: 4313\n",
      "[LightGBM] [Info] Auto-choosing row-wise multi-threading, the overhead of testing was 0.002169 seconds.\n",
      "You can set `force_row_wise=true` to remove the overhead.\n",
      "And if memory is not enough, you can set `force_col_wise=true`.\n",
      "[LightGBM] [Info] Total Bins 3523\n",
      "[LightGBM] [Info] Number of data points in the train set: 8626, number of used features: 29\n",
      "[LightGBM] [Info] [binary:BoostFromScore]: pavg=0.500000 -> initscore=0.000000\n",
      "[LightGBM] [Warning] No further splits with positive gain, best gain: -inf\n",
      "[LightGBM] [Warning] No further splits with positive gain, best gain: -inf\n",
      "[LightGBM] [Warning] No further splits with positive gain, best gain: -inf\n",
      "[LightGBM] [Warning] No further splits with positive gain, best gain: -inf\n",
      "[LightGBM] [Warning] No further splits with positive gain, best gain: -inf\n",
      "[LightGBM] [Warning] No further splits with positive gain, best gain: -inf\n",
      "[LightGBM] [Warning] No further splits with positive gain, best gain: -inf\n",
      "[LightGBM] [Warning] No further splits with positive gain, best gain: -inf\n",
      "[LightGBM] [Warning] No further splits with positive gain, best gain: -inf\n",
      "[LightGBM] [Warning] No further splits with positive gain, best gain: -inf\n",
      "[LightGBM] [Warning] No further splits with positive gain, best gain: -inf\n",
      "[LightGBM] [Warning] No further splits with positive gain, best gain: -inf\n",
      "[LightGBM] [Warning] No further splits with positive gain, best gain: -inf\n",
      "[LightGBM] [Warning] No further splits with positive gain, best gain: -inf\n",
      "[LightGBM] [Warning] No further splits with positive gain, best gain: -inf\n",
      "[LightGBM] [Warning] No further splits with positive gain, best gain: -inf\n",
      "[LightGBM] [Warning] No further splits with positive gain, best gain: -inf\n",
      "[LightGBM] [Warning] No further splits with positive gain, best gain: -inf\n",
      "[LightGBM] [Warning] No further splits with positive gain, best gain: -inf\n",
      "[LightGBM] [Warning] No further splits with positive gain, best gain: -inf\n",
      "[LightGBM] [Warning] No further splits with positive gain, best gain: -inf\n",
      "[LightGBM] [Warning] No further splits with positive gain, best gain: -inf\n",
      "[LightGBM] [Warning] No further splits with positive gain, best gain: -inf\n",
      "[LightGBM] [Warning] No further splits with positive gain, best gain: -inf\n",
      "[LightGBM] [Warning] No further splits with positive gain, best gain: -inf\n",
      "[LightGBM] [Warning] No further splits with positive gain, best gain: -inf\n",
      "[LightGBM] [Warning] No further splits with positive gain, best gain: -inf\n",
      "[LightGBM] [Warning] No further splits with positive gain, best gain: -inf\n",
      "[LightGBM] [Warning] No further splits with positive gain, best gain: -inf\n",
      "[LightGBM] [Warning] No further splits with positive gain, best gain: -inf\n",
      "[LightGBM] [Warning] No further splits with positive gain, best gain: -inf\n",
      "[LightGBM] [Warning] No further splits with positive gain, best gain: -inf\n",
      "[LightGBM] [Warning] No further splits with positive gain, best gain: -inf\n",
      "[LightGBM] [Warning] No further splits with positive gain, best gain: -inf\n",
      "[LightGBM] [Warning] No further splits with positive gain, best gain: -inf\n",
      "[LightGBM] [Warning] No further splits with positive gain, best gain: -inf\n",
      "[LightGBM] [Warning] No further splits with positive gain, best gain: -inf\n",
      "[LightGBM] [Warning] No further splits with positive gain, best gain: -inf\n"
     ]
    },
    {
     "data": {
      "text/html": [
       "<pre style=\"white-space:pre;overflow-x:auto;line-height:normal;font-family:Menlo,'DejaVu Sans Mono',consolas,'Courier New',monospace\">Model details have not been found\n",
       "</pre>\n"
      ],
      "text/plain": [
       "Model details have not been found\n"
      ]
     },
     "metadata": {},
     "output_type": "display_data"
    },
    {
     "data": {
      "text/html": [
       "<pre style=\"white-space:pre;overflow-x:auto;line-height:normal;font-family:Menlo,'DejaVu Sans Mono',consolas,'Courier New',monospace\"><span style=\"color: #008000; text-decoration-color: #008000\">Model has been created!</span>\n",
       "</pre>\n"
      ],
      "text/plain": [
       "\u001b[32mModel has been created!\u001b[0m\n"
      ]
     },
     "metadata": {},
     "output_type": "display_data"
    },
    {
     "data": {
      "text/html": [
       "<pre style=\"white-space:pre;overflow-x:auto;line-height:normal;font-family:Menlo,'DejaVu Sans Mono',consolas,'Courier New',monospace\"><span style=\"color: #008000; text-decoration-color: #008000\">Model has been registered!</span>\n",
       "</pre>\n"
      ],
      "text/plain": [
       "\u001b[32mModel has been registered!\u001b[0m\n"
      ]
     },
     "metadata": {},
     "output_type": "display_data"
    },
    {
     "data": {
      "text/html": [
       "<pre style=\"white-space:pre;overflow-x:auto;line-height:normal;font-family:Menlo,'DejaVu Sans Mono',consolas,'Courier New',monospace\">Model version:  v1\n",
       "</pre>\n"
      ],
      "text/plain": [
       "Model version:  v1\n"
      ]
     },
     "metadata": {},
     "output_type": "display_data"
    },
    {
     "data": {
      "text/html": [
       "<pre style=\"white-space:pre;overflow-x:auto;line-height:normal;font-family:Menlo,'DejaVu Sans Mono',consolas,'Courier New',monospace\">Model label:  Credit Model LGBM23:v1\n",
       "</pre>\n"
      ],
      "text/plain": [
       "Model label:  Credit Model LGBM23:v1\n"
      ]
     },
     "metadata": {},
     "output_type": "display_data"
    },
    {
     "name": "stdout",
     "output_type": "stream",
     "text": [
      "No metrics are found in config\n"
     ]
    },
    {
     "data": {
      "text/html": [
       "<pre style=\"white-space:pre;overflow-x:auto;line-height:normal;font-family:Menlo,'DejaVu Sans Mono',consolas,'Courier New',monospace\"><span style=\"color: #008000; text-decoration-color: #008000\">Params have been registered!</span>\n",
       "</pre>\n"
      ],
      "text/plain": [
       "\u001b[32mParams have been registered!\u001b[0m\n"
      ]
     },
     "metadata": {},
     "output_type": "display_data"
    },
    {
     "name": "stdout",
     "output_type": "stream",
     "text": [
      "No figures are found in config\n"
     ]
    }
   ],
   "source": [
    "\n",
    "@model(label='Credit Model LGBM22')\n",
    "def create_model():\n",
    "    data = pureml.dataset.fetch('Credit Loan Dataset4:v1')\n",
    "    x_train = data['x_train']\n",
    "    y_train = data['y_train']\n",
    "    lgb_params = {\n",
    "    \"objective\": \"binary\",\n",
    "    \"metric\": \"auc\",\n",
    "    \"learning_rate\": 0.412,\n",
    "    \"num_leaves\": 10,\n",
    "    \"max_depth\": 3,\n",
    "    \"random_state\": rand_seed,\n",
    "    \"n_jobs\": 1,}\n",
    "\n",
    "    pureml.log(params=lgb_params)\n",
    "    estimator = Pipeline(\n",
    "        steps=[\n",
    "            (\"preprocessing\", StandardScaler()),\n",
    "            (\"classifier\", lgb.LGBMClassifier(**lgb_params)),\n",
    "        ]\n",
    "    )\n",
    "\n",
    "    estimator.fit(x_train, y_train)\n",
    "    return estimator\n",
    "\n",
    "model_lgb = create_model()"
   ]
  },
  {
   "cell_type": "code",
   "execution_count": 13,
   "metadata": {},
   "outputs": [
    {
     "data": {
      "text/html": [
       "<pre style=\"white-space:pre;overflow-x:auto;line-height:normal;font-family:Menlo,'DejaVu Sans Mono',consolas,'Courier New',monospace\"><span style=\"color: #008000; text-decoration-color: #008000\">Predict Function has been registered!</span>\n",
       "</pre>\n"
      ],
      "text/plain": [
       "\u001b[32mPredict Function has been registered!\u001b[0m\n"
      ]
     },
     "metadata": {},
     "output_type": "display_data"
    }
   ],
   "source": [
    "pureml.predict.add(label='Credit Model LGBM22:v1',paths={'predict':'predict.py'})"
   ]
  },
  {
   "cell_type": "code",
   "execution_count": 14,
   "metadata": {},
   "outputs": [
    {
     "data": {
      "text/html": [
       "<pre style=\"white-space:pre;overflow-x:auto;line-height:normal;font-family:Menlo,'DejaVu Sans Mono',consolas,'Courier New',monospace\"><span style=\"color: #008000; text-decoration-color: #008000\"> predict file predict.py has been fetched</span>\n",
       "</pre>\n"
      ],
      "text/plain": [
       "\u001b[32m predict file predict.py has been fetched\u001b[0m\n"
      ]
     },
     "metadata": {},
     "output_type": "display_data"
    }
   ],
   "source": [
    "pureml.predict.fetch('Credit Model LGBM22:v1')"
   ]
  },
  {
   "cell_type": "code",
   "execution_count": 1,
   "metadata": {},
   "outputs": [
    {
     "data": {
      "text/html": [
       "<pre style=\"white-space:pre;overflow-x:auto;line-height:normal;font-family:Menlo,'DejaVu Sans Mono',consolas,'Courier New',monospace\"><span style=\"color: #008000; text-decoration-color: #008000; font-weight: bold\"> Succesfully fetched the Dataset: Credit Loan Dataset3:v1</span>\n",
       "</pre>\n"
      ],
      "text/plain": [
       "\u001b[1;32m Succesfully fetched the Dataset: Credit Loan Dataset3:v1\u001b[0m\n"
      ]
     },
     "metadata": {},
     "output_type": "display_data"
    },
    {
     "data": {
      "text/html": [
       "<pre style=\"white-space:pre;overflow-x:auto;line-height:normal;font-family:Menlo,'DejaVu Sans Mono',consolas,'Courier New',monospace\"><span style=\"color: #008000; text-decoration-color: #008000; font-weight: bold\"> Succesfully fetched the Predictor</span>\n",
       "</pre>\n"
      ],
      "text/plain": [
       "\u001b[1;32m Succesfully fetched the Predictor\u001b[0m\n"
      ]
     },
     "metadata": {},
     "output_type": "display_data"
    },
    {
     "data": {
      "text/html": [
       "<pre style=\"white-space:pre;overflow-x:auto;line-height:normal;font-family:Menlo,'DejaVu Sans Mono',consolas,'Courier New',monospace\"><span style=\"color: #008000; text-decoration-color: #008000; font-weight: bold\"> Succesfully fetched the Model: Credit Model LGBM23:v1</span>\n",
       "</pre>\n"
      ],
      "text/plain": [
       "\u001b[1;32m Succesfully fetched the Model: Credit Model LGBM23:v1\u001b[0m\n"
      ]
     },
     "metadata": {},
     "output_type": "display_data"
    },
    {
     "data": {
      "text/html": [
       "<pre style=\"white-space:pre;overflow-x:auto;line-height:normal;font-family:Menlo,'DejaVu Sans Mono',consolas,'Courier New',monospace\"><span style=\"color: #008000; text-decoration-color: #008000; font-weight: bold\"> Succesfully fetched the Metrics </span>\n",
       "</pre>\n"
      ],
      "text/plain": [
       "\u001b[1;32m Succesfully fetched the Metrics \u001b[0m\n"
      ]
     },
     "metadata": {},
     "output_type": "display_data"
    },
    {
     "name": "stderr",
     "output_type": "stream",
     "text": [
      "/mnt/sda1/Pureml-Files/Test-Pypi/test-pypi-6/pypi_test/lib/python3.10/site-packages/sklearn/metrics/_ranking.py:1988: UndefinedMetricWarning: 'k' (2) greater than or equal to 'n_classes' (2) will result in a perfect score and is therefore meaningless.\n",
      "  warnings.warn(\n",
      "/mnt/sda1/Pureml-Files/Test-Pypi/test-pypi-6/pypi_test/lib/python3.10/site-packages/fairlearn/metrics/_disaggregated_result.py:231: FutureWarning: DataFrame.applymap has been deprecated. Use DataFrame.map instead.\n",
      "  mf = mf.applymap(lambda x: x if np.isscalar(x) else np.nan)\n",
      "/mnt/sda1/Pureml-Files/Test-Pypi/test-pypi-6/pypi_test/lib/python3.10/site-packages/fairlearn/metrics/_disaggregated_result.py:231: FutureWarning: DataFrame.applymap has been deprecated. Use DataFrame.map instead.\n",
      "  mf = mf.applymap(lambda x: x if np.isscalar(x) else np.nan)\n",
      "/mnt/sda1/Pureml-Files/Test-Pypi/test-pypi-6/pypi_test/lib/python3.10/site-packages/sklearn/metrics/_ranking.py:1988: UndefinedMetricWarning: 'k' (2) greater than or equal to 'n_classes' (2) will result in a perfect score and is therefore meaningless.\n",
      "  warnings.warn(\n",
      "/mnt/sda1/Pureml-Files/Test-Pypi/test-pypi-6/pypi_test/lib/python3.10/site-packages/fairlearn/metrics/_disaggregated_result.py:231: FutureWarning: DataFrame.applymap has been deprecated. Use DataFrame.map instead.\n",
      "  mf = mf.applymap(lambda x: x if np.isscalar(x) else np.nan)\n",
      "/mnt/sda1/Pureml-Files/Test-Pypi/test-pypi-6/pypi_test/lib/python3.10/site-packages/fairlearn/metrics/_disaggregated_result.py:231: FutureWarning: DataFrame.applymap has been deprecated. Use DataFrame.map instead.\n",
      "  mf = mf.applymap(lambda x: x if np.isscalar(x) else np.nan)\n",
      "/mnt/sda1/Pureml-Files/Test-Pypi/test-pypi-6/pypi_test/lib/python3.10/site-packages/sklearn/metrics/_ranking.py:1988: UndefinedMetricWarning: 'k' (2) greater than or equal to 'n_classes' (2) will result in a perfect score and is therefore meaningless.\n",
      "  warnings.warn(\n",
      "/mnt/sda1/Pureml-Files/Test-Pypi/test-pypi-6/pypi_test/lib/python3.10/site-packages/fairlearn/metrics/_disaggregated_result.py:231: FutureWarning: DataFrame.applymap has been deprecated. Use DataFrame.map instead.\n",
      "  mf = mf.applymap(lambda x: x if np.isscalar(x) else np.nan)\n",
      "/mnt/sda1/Pureml-Files/Test-Pypi/test-pypi-6/pypi_test/lib/python3.10/site-packages/fairlearn/metrics/_disaggregated_result.py:231: FutureWarning: DataFrame.applymap has been deprecated. Use DataFrame.map instead.\n",
      "  mf = mf.applymap(lambda x: x if np.isscalar(x) else np.nan)\n",
      "/mnt/sda1/Pureml-Files/Test-Pypi/test-pypi-6/pypi_test/lib/python3.10/site-packages/sklearn/metrics/_ranking.py:1988: UndefinedMetricWarning: 'k' (2) greater than or equal to 'n_classes' (2) will result in a perfect score and is therefore meaningless.\n",
      "  warnings.warn(\n",
      "/mnt/sda1/Pureml-Files/Test-Pypi/test-pypi-6/pypi_test/lib/python3.10/site-packages/fairlearn/metrics/_disaggregated_result.py:231: FutureWarning: DataFrame.applymap has been deprecated. Use DataFrame.map instead.\n",
      "  mf = mf.applymap(lambda x: x if np.isscalar(x) else np.nan)\n",
      "/mnt/sda1/Pureml-Files/Test-Pypi/test-pypi-6/pypi_test/lib/python3.10/site-packages/fairlearn/metrics/_disaggregated_result.py:231: FutureWarning: DataFrame.applymap has been deprecated. Use DataFrame.map instead.\n",
      "  mf = mf.applymap(lambda x: x if np.isscalar(x) else np.nan)\n",
      "/mnt/sda1/Pureml-Files/Test-Pypi/test-pypi-6/pypi_test/lib/python3.10/site-packages/sklearn/metrics/_ranking.py:1988: UndefinedMetricWarning: 'k' (2) greater than or equal to 'n_classes' (2) will result in a perfect score and is therefore meaningless.\n",
      "  warnings.warn(\n",
      "/mnt/sda1/Pureml-Files/Test-Pypi/test-pypi-6/pypi_test/lib/python3.10/site-packages/fairlearn/metrics/_disaggregated_result.py:231: FutureWarning: DataFrame.applymap has been deprecated. Use DataFrame.map instead.\n",
      "  mf = mf.applymap(lambda x: x if np.isscalar(x) else np.nan)\n",
      "/mnt/sda1/Pureml-Files/Test-Pypi/test-pypi-6/pypi_test/lib/python3.10/site-packages/fairlearn/metrics/_disaggregated_result.py:231: FutureWarning: DataFrame.applymap has been deprecated. Use DataFrame.map instead.\n",
      "  mf = mf.applymap(lambda x: x if np.isscalar(x) else np.nan)\n",
      "/mnt/sda1/Pureml-Files/Test-Pypi/test-pypi-6/pypi_test/lib/python3.10/site-packages/sklearn/metrics/_ranking.py:1988: UndefinedMetricWarning: 'k' (2) greater than or equal to 'n_classes' (2) will result in a perfect score and is therefore meaningless.\n",
      "  warnings.warn(\n",
      "/mnt/sda1/Pureml-Files/Test-Pypi/test-pypi-6/pypi_test/lib/python3.10/site-packages/fairlearn/metrics/_disaggregated_result.py:231: FutureWarning: DataFrame.applymap has been deprecated. Use DataFrame.map instead.\n",
      "  mf = mf.applymap(lambda x: x if np.isscalar(x) else np.nan)\n",
      "/mnt/sda1/Pureml-Files/Test-Pypi/test-pypi-6/pypi_test/lib/python3.10/site-packages/fairlearn/metrics/_disaggregated_result.py:231: FutureWarning: DataFrame.applymap has been deprecated. Use DataFrame.map instead.\n",
      "  mf = mf.applymap(lambda x: x if np.isscalar(x) else np.nan)\n",
      "/mnt/sda1/Pureml-Files/Test-Pypi/test-pypi-6/pypi_test/lib/python3.10/site-packages/sklearn/metrics/_ranking.py:1988: UndefinedMetricWarning: 'k' (2) greater than or equal to 'n_classes' (2) will result in a perfect score and is therefore meaningless.\n",
      "  warnings.warn(\n",
      "/mnt/sda1/Pureml-Files/Test-Pypi/test-pypi-6/pypi_test/lib/python3.10/site-packages/fairlearn/metrics/_disaggregated_result.py:231: FutureWarning: DataFrame.applymap has been deprecated. Use DataFrame.map instead.\n",
      "  mf = mf.applymap(lambda x: x if np.isscalar(x) else np.nan)\n",
      "/mnt/sda1/Pureml-Files/Test-Pypi/test-pypi-6/pypi_test/lib/python3.10/site-packages/fairlearn/metrics/_disaggregated_result.py:231: FutureWarning: DataFrame.applymap has been deprecated. Use DataFrame.map instead.\n",
      "  mf = mf.applymap(lambda x: x if np.isscalar(x) else np.nan)\n"
     ]
    },
    {
     "data": {
      "text/html": [
       "<pre style=\"white-space:pre;overflow-x:auto;line-height:normal;font-family:Menlo,'DejaVu Sans Mono',consolas,'Courier New',monospace\">Assignment Status Code: <span style=\"color: #008080; text-decoration-color: #008080; font-weight: bold\">200</span>\n",
       "</pre>\n"
      ],
      "text/plain": [
       "Assignment Status Code: \u001b[1;36m200\u001b[0m\n"
      ]
     },
     "metadata": {},
     "output_type": "display_data"
    },
    {
     "data": {
      "text/html": [
       "<pre style=\"white-space:pre;overflow-x:auto;line-height:normal;font-family:Menlo,'DejaVu Sans Mono',consolas,'Courier New',monospace\">Updated the assignments\n",
       "</pre>\n"
      ],
      "text/plain": [
       "Updated the assignments\n"
      ]
     },
     "metadata": {},
     "output_type": "display_data"
    },
    {
     "data": {
      "text/html": [
       "<pre style=\"white-space:pre;overflow-x:auto;line-height:normal;font-family:Menlo,'DejaVu Sans Mono',consolas,'Courier New',monospace\"><span style=\"color: #008000; text-decoration-color: #008000; font-weight: bold\"> Evaluation Completed Successfully &amp; Data sent to Backend</span>\n",
       "</pre>\n"
      ],
      "text/plain": [
       "\u001b[1;32m Evaluation Completed Successfully & Data sent to Backend\u001b[0m\n"
      ]
     },
     "metadata": {},
     "output_type": "display_data"
    }
   ],
   "source": [
    "from pureml_policy import policy_eval\n",
    "#policy = faircredit\n",
    "results = policy_eval.eval(\n",
    "            label_model='Credit Model LGBM22:v1',\n",
    "            label_dataset='Credit Loan Dataset4:v1')"
   ]
  },
  {
   "cell_type": "code",
   "execution_count": 2,
   "metadata": {},
   "outputs": [
    {
     "data": {
      "text/plain": [
       "'{\"model\": \"Credit Model LGBM23:v1\", \"dataset\": \"Credit Loan Dataset3:v1\", \"data\": {\"sensitive_columns\": [\"sex\", \"race\"], \"complete\": {\"operational_scores\": {\"accuracy\": 0.7902857142857143, \"precision\": 0.8011192423590185, \"recall\": 0.5168008886420439, \"f1\": 0.6282916948008103, \"top_k_accuracy_score\": 1.0, \"log_loss\": 7.558869025031997, \"average_precision_score\": 0.4580191363593817, \"roc_auc\": 0.7941636324305793, \"brier_score_loss\": 0.20971428571428571, \"wasserstein_distance\": 0.24342857142857133, \"hellinger_distance\": 0.4705759863318966, \"l_infinity_distance\": 1.0, \"cramers_v\": 0.5141997651689179, \"population_stability_index\": 0.07403892077831886}, \"fairness_scores\": {\"balanced_accuracy\": 0.7941636324305794, \"balanced_acc_error\": 0.009249067740303738, \"selection_rate\": 0.34295238095238095, \"false_positive_rate\": 0.21279197749785986, \"false_positive_error\": 0.00887118126808464, \"false_negative_rate\": 0.19888075764098148, \"false_negative_error\": 0.016232164340213334, \"true_positive_rate\": 0.8011192423590185, \"true_negative_rate\": 0.7872080225021402, \"predictive_value_parity\": 0.6452328159645233, \"false_positive_parity\": 0.145985401459854, \"true_positive_parity\": 0.8410404624277457, \"demographic_parity_difference\": 0.06381483952849742, \"demographic_parity_ratio\": 0.8305387842508426, \"equalized_odds_difference\": 0.11717249327698809, \"equalized_odds_ratio\": 0.5547445255474452, \"equal_opportunity\": 0.8410404624277457, \"disparate_impact\": 0.9417159506735044}}, \"subsets\": [{\"columns\": {\"sex\": \"male\", \"race\": \"Indian\"}, \"operational_scores\": {\"accuracy\": 0.8509015256588072, \"precision\": 0.8410404624277457, \"recall\": 0.6452328159645233, \"f1\": 0.7302383939774153, \"top_k_accuracy_score\": 1.0, \"log_loss\": 5.3740537300001305, \"average_precision_score\": 0.5808083760926643, \"roc_auc\": 0.8475275304839458, \"brier_score_loss\": 0.14909847434119278, \"wasserstein_distance\": 0.14563106796116482, \"hellinger_distance\": 0.28249721632626773, \"l_infinity_distance\": 1.0, \"cramers_v\": 0.6384807646044695, \"population_stability_index\": 0.026631298362521188}, \"fairness_scores\": {\"balanced_accuracy\": 0.8475275304839458, \"balanced_acc_error\": 0.02191663641670103, \"selection_rate\": 0.3127600554785021, \"false_positive_rate\": 0.145985401459854, \"false_positive_error\": 0.020904421608666426, \"false_negative_rate\": 0.15895953757225434, \"false_negative_error\": 0.03852740536935473, \"true_positive_rate\": 0.8410404624277457, \"true_negative_rate\": 0.8540145985401459, \"predictive_value_parity\": 0.6452328159645233, \"false_positive_parity\": 0.145985401459854, \"true_positive_parity\": 0.8410404624277457, \"demographic_parity_difference\": 0.0, \"demographic_parity_ratio\": 1.0, \"equalized_odds_difference\": 0.0, \"equalized_odds_ratio\": 1.0, \"equal_opportunity\": 0.8410404624277457, \"disparate_impact\": 0.8305387842508426}}, {\"columns\": {\"sex\": \"male\", \"race\": \"American\"}, \"operational_scores\": {\"accuracy\": 0.8415622697126013, \"precision\": 0.8513931888544891, \"recall\": 0.6221719457013575, \"f1\": 0.7189542483660131, \"top_k_accuracy_score\": 1.0, \"log_loss\": 5.710674634237426, \"average_precision_score\": 0.5650851013027373, \"roc_auc\": 0.8449422423962969, \"brier_score_loss\": 0.1584377302873987, \"wasserstein_distance\": 0.1753868828297715, \"hellinger_distance\": 0.3383846657706491, \"l_infinity_distance\": 1.0, \"cramers_v\": 0.6250797727001925, \"population_stability_index\": 0.038227636163307536}, \"fairness_scores\": {\"balanced_accuracy\": 0.8449422423962968, \"balanced_acc_error\": 0.022404998653515012, \"selection_rate\": 0.32571849668386144, \"false_positive_rate\": 0.16150870406189555, \"false_positive_error\": 0.022430711394174907, \"false_negative_rate\": 0.14860681114551083, \"false_negative_error\": 0.03879173939136102, \"true_positive_rate\": 0.8513931888544891, \"true_negative_rate\": 0.8384912959381045, \"predictive_value_parity\": 0.6221719457013575, \"false_positive_parity\": 0.16150870406189555, \"true_positive_parity\": 0.8513931888544891, \"demographic_parity_difference\": 0.0, \"demographic_parity_ratio\": 1.0, \"equalized_odds_difference\": 0.0, \"equalized_odds_ratio\": 1.0, \"equal_opportunity\": 0.8513931888544891, \"disparate_impact\": 0.8305387842508426}}, {\"columns\": {\"sex\": \"female\", \"race\": \"African\"}, \"operational_scores\": {\"accuracy\": 0.7505871301080319, \"precision\": 0.75, \"recall\": 0.44503311258278144, \"f1\": 0.5586034912718204, \"top_k_accuracy_score\": 1.0, \"log_loss\": 8.98975103317107, \"average_precision_score\": 0.38638169211674794, \"roc_auc\": 0.7503718024985127, \"brier_score_loss\": 0.24941286989196806, \"wasserstein_distance\": 0.2883983090652887, \"hellinger_distance\": 0.5582790181929499, \"l_infinity_distance\": 1.0, \"cramers_v\": 0.42544532977799115, \"population_stability_index\": 0.10434065918850144}, \"fairness_scores\": {\"balanced_accuracy\": 0.7503718024985128, \"balanced_acc_error\": 0.02255801685218068, \"selection_rate\": 0.3546265852512917, \"false_positive_rate\": 0.24925639500297442, \"false_positive_error\": 0.02067955505355642, \"false_negative_rate\": 0.25, \"false_negative_error\": 0.040097537330863596, \"true_positive_rate\": 0.75, \"true_negative_rate\": 0.7507436049970255, \"predictive_value_parity\": 0.44503311258278144, \"false_positive_parity\": 0.24925639500297442, \"true_positive_parity\": 0.75, \"demographic_parity_difference\": 0.0, \"demographic_parity_ratio\": 1.0, \"equalized_odds_difference\": 0.0, \"equalized_odds_ratio\": 1.0, \"equal_opportunity\": 0.75, \"disparate_impact\": 0.8305387842508426}}, {\"columns\": {\"sex\": \"female\", \"race\": \"American\"}, \"operational_scores\": {\"accuracy\": 0.7461502566495567, \"precision\": 0.7791932059447984, \"recall\": 0.4547707558859975, \"f1\": 0.5743348982785602, \"top_k_accuracy_score\": 1.0, \"log_loss\": 9.149672162239725, \"average_precision_score\": 0.40288438124221676, \"roc_auc\": 0.7580176556039783, \"brier_score_loss\": 0.2538497433504433, \"wasserstein_distance\": 0.31357909472701806, \"hellinger_distance\": 0.5976375216202134, \"l_infinity_distance\": 1.0, \"cramers_v\": 0.4398670303375444, \"population_stability_index\": 0.11960000959535765}, \"fairness_scores\": {\"balanced_accuracy\": 0.7580176556039782, \"balanced_acc_error\": 0.02149891855333398, \"selection_rate\": 0.37657489500699953, \"false_positive_rate\": 0.2631578947368421, \"false_positive_error\": 0.02110733261183453, \"false_negative_rate\": 0.2208067940552017, \"false_negative_error\": 0.03746057268468995, \"true_positive_rate\": 0.7791932059447984, \"true_negative_rate\": 0.7368421052631579, \"predictive_value_parity\": 0.4547707558859975, \"false_positive_parity\": 0.2631578947368421, \"true_positive_parity\": 0.7791932059447984, \"demographic_parity_difference\": 0.0, \"demographic_parity_ratio\": 1.0, \"equalized_odds_difference\": 0.0, \"equalized_odds_ratio\": 1.0, \"equal_opportunity\": 0.7791932059447984, \"disparate_impact\": 0.8305387842508426}}, {\"columns\": {\"sex\": \"female\", \"race\": \"Indian\"}, \"operational_scores\": {\"accuracy\": 0.7633624878522838, \"precision\": 0.7674418604651163, \"recall\": 0.4602510460251046, \"f1\": 0.5754141238012206, \"top_k_accuracy_score\": 1.0, \"log_loss\": 8.529280466715283, \"average_precision_score\": 0.40180678395991765, \"roc_auc\": 0.7648634363750643, \"brier_score_loss\": 0.23663751214771622, \"wasserstein_distance\": 0.2789115646258503, \"hellinger_distance\": 0.5420545500109784, \"l_infinity_distance\": 1.0, \"cramers_v\": 0.4507468354886997, \"population_stability_index\": 0.09834802412905364}, \"fairness_scores\": {\"balanced_accuracy\": 0.7648634363750644, \"balanced_acc_error\": 0.022483772502629437, \"selection_rate\": 0.34839650145772594, \"false_positive_rate\": 0.23771498771498772, \"false_positive_error\": 0.02067834818599211, \"false_negative_rate\": 0.23255813953488372, \"false_negative_error\": 0.03993101576592886, \"true_positive_rate\": 0.7674418604651163, \"true_negative_rate\": 0.7622850122850123, \"predictive_value_parity\": 0.4602510460251046, \"false_positive_parity\": 0.23771498771498772, \"true_positive_parity\": 0.7674418604651163, \"demographic_parity_difference\": 0.0, \"demographic_parity_ratio\": 1.0, \"equalized_odds_difference\": 0.0, \"equalized_odds_ratio\": 1.0, \"equal_opportunity\": 0.7674418604651163, \"disparate_impact\": 0.8305387842508426}}, {\"columns\": {\"sex\": \"male\", \"race\": \"African\"}, \"operational_scores\": {\"accuracy\": 0.8468271334792122, \"precision\": 0.8590163934426229, \"recall\": 0.6107226107226107, \"f1\": 0.7138964577656676, \"top_k_accuracy_score\": 1.0, \"log_loss\": 5.520909709492781, \"average_precision_score\": 0.5559847023634376, \"roc_auc\": 0.8511779903423246, \"brier_score_loss\": 0.15317286652078774, \"wasserstein_distance\": 0.18088986141502544, \"hellinger_distance\": 0.35480169771506764, \"l_infinity_distance\": 1.0, \"cramers_v\": 0.6280960314447842, \"population_stability_index\": 0.042039570071534374}, \"fairness_scores\": {\"balanced_accuracy\": 0.8511779903423247, \"balanced_acc_error\": 0.022369149953968787, \"selection_rate\": 0.31291028446389496, \"false_positive_rate\": 0.15666041275797374, \"false_positive_error\": 0.021820180848731024, \"false_negative_rate\": 0.14098360655737704, \"false_negative_error\": 0.03905630789490014, \"true_positive_rate\": 0.8590163934426229, \"true_negative_rate\": 0.8433395872420263, \"predictive_value_parity\": 0.6107226107226107, \"false_positive_parity\": 0.15666041275797374, \"true_positive_parity\": 0.8590163934426229, \"demographic_parity_difference\": 0.0, \"demographic_parity_ratio\": 1.0, \"equalized_odds_difference\": 0.0, \"equalized_odds_ratio\": 1.0, \"equal_opportunity\": 0.8590163934426229, \"disparate_impact\": 0.8305387842508426}}]}}'"
      ]
     },
     "execution_count": 2,
     "metadata": {},
     "output_type": "execute_result"
    }
   ],
   "source": [
    "results"
   ]
  },
  {
   "cell_type": "code",
   "execution_count": null,
   "metadata": {},
   "outputs": [],
   "source": []
  }
 ],
 "metadata": {
  "kernelspec": {
   "display_name": "Python 3",
   "language": "python",
   "name": "python3"
  },
  "language_info": {
   "codemirror_mode": {
    "name": "ipython",
    "version": 3
   },
   "file_extension": ".py",
   "mimetype": "text/x-python",
   "name": "python",
   "nbconvert_exporter": "python",
   "pygments_lexer": "ipython3",
   "version": "3.10.12"
  },
  "orig_nbformat": 4
 },
 "nbformat": 4,
 "nbformat_minor": 2
}
